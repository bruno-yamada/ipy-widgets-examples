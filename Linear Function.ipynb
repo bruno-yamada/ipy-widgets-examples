{
 "cells": [
  {
   "cell_type": "code",
   "execution_count": 3,
   "metadata": {},
   "outputs": [
    {
     "data": {
      "application/vnd.jupyter.widget-view+json": {
       "model_id": "9d1d25310d8840f896e3b2b0e8c78df7"
      }
     },
     "metadata": {},
     "output_type": "display_data"
    }
   ],
   "source": [
    "import numpy as np  \n",
    "import matplotlib.pyplot as plt  \n",
    "\n",
    "from ipywidgets import interact, interactive, fixed, interact_manual, FloatSlider\n",
    "from IPython.display import display\n",
    "\n",
    "# Linear function\n",
    "def fn(w0, w1):\n",
    "    x = np.array(range(0, 11))\n",
    "    y = w0 + w1 * x\n",
    "\n",
    "    plt.axis('equal') # Keeps X and Y axis at the same scale\n",
    "    plt.grid(True) # Displays Grid\n",
    "    plt.plot(x, y) # Plot line\n",
    "    \n",
    "    # Zeroed index Guiding lines\n",
    "    plt.axhline(0, color='black')\n",
    "    plt.axvline(0, color='black')\n",
    "    \n",
    "    #Shows graph\n",
    "    plt.show()\n",
    "    \n",
    "# Weight 0 range\n",
    "w0_range = FloatSlider(min=0.0, max=4.0, step=0.05)\n",
    "\n",
    "# Weight 1 range\n",
    "w1_range = FloatSlider(min=-2.0, max=2.0, step=0.05, value=0.25)\n",
    "\n",
    "# Interactive widget\n",
    "w = interactive(fn, w0=w0_range, w1=w1_range)\n",
    "display(w)"
   ]
  }
 ],
 "metadata": {
  "kernelspec": {
   "display_name": "Python 3",
   "language": "python",
   "name": "python3"
  },
  "language_info": {
   "codemirror_mode": {
    "name": "ipython",
    "version": 3
   },
   "file_extension": ".py",
   "mimetype": "text/x-python",
   "name": "python",
   "nbconvert_exporter": "python",
   "pygments_lexer": "ipython3",
   "version": "3.6.1"
  }
 },
 "nbformat": 4,
 "nbformat_minor": 2
}
